{
 "cells": [
  {
   "cell_type": "code",
   "execution_count": 3,
   "id": "39bce5cb-0baa-40fc-9b3a-6b99bb80b2eb",
   "metadata": {},
   "outputs": [],
   "source": [
    "import numpy as np"
   ]
  },
  {
   "cell_type": "code",
   "execution_count": 1,
   "id": "06405a9d-b846-4b46-a750-c2e5665707dc",
   "metadata": {},
   "outputs": [
    {
     "data": {
      "text/plain": [
       "array([0.22733602, 0.31675834, 0.79736546, 0.67625467, 0.39110955,\n",
       "       0.33281393, 0.59830875, 0.18673419, 0.67275604, 0.94180287])"
      ]
     },
     "execution_count": 1,
     "metadata": {},
     "output_type": "execute_result"
    }
   ],
   "source": [
    "from numpy.random import default_rng\n",
    "\n",
    "rng = default_rng(12345)\n",
    "\n",
    "random_array = rng.random(10)\n",
    "random_array"
   ]
  },
  {
   "cell_type": "code",
   "execution_count": 2,
   "id": "aa5c5616-eae3-461e-9eb6-49adf970ad32",
   "metadata": {},
   "outputs": [
    {
     "data": {
      "text/plain": [
       "array([3.57617496, 6.26372846, 4.12933826, 4.74082677, 4.92465669,\n",
       "       4.25911535, 3.6322073 , 5.6488928 , 5.36105811, 3.04713694])"
      ]
     },
     "execution_count": 2,
     "metadata": {},
     "output_type": "execute_result"
    }
   ],
   "source": [
    "rng = default_rng(12345)\n",
    "\n",
    "mean, stddev = 5, 1\n",
    "\n",
    "random_normal = rng.normal(mean, stddev, size=10)\n",
    "random_normal"
   ]
  },
  {
   "cell_type": "code",
   "execution_count": 4,
   "id": "ab188e66-1d90-416c-8ecd-8d902efab99c",
   "metadata": {},
   "outputs": [
    {
     "data": {
      "text/plain": [
       "array([0.39682145, 0.86568572, 0.46040359, 0.30599848, 0.57381588,\n",
       "       0.08888468, 0.88194347, 0.73228387, 0.73215182, 0.56233394])"
      ]
     },
     "execution_count": 4,
     "metadata": {},
     "output_type": "execute_result"
    }
   ],
   "source": [
    "rng = default_rng(616)\n",
    "\n",
    "rng.random(10)"
   ]
  },
  {
   "cell_type": "code",
   "execution_count": 5,
   "id": "d75463c8-f4ca-4cc8-b740-72aad909f885",
   "metadata": {},
   "outputs": [
    {
     "data": {
      "text/plain": [
       "array([8, 3, 6, 0, 3, 3, 1, 2, 2, 4, 9, 1, 2, 5, 1, 8, 9, 0, 3, 1, 5, 8,\n",
       "       0, 6, 1, 7, 0, 7, 6, 0, 3, 7, 1, 9, 4, 1, 6, 1, 4, 4, 9, 5, 3, 4,\n",
       "       7, 8, 3, 3, 5, 0, 4, 9, 9, 5, 6, 5, 8, 2, 3, 0, 0, 8, 3, 8, 4, 8,\n",
       "       8, 9, 7, 3, 8, 4, 9, 2, 6, 3, 0, 3, 2, 0, 0, 4, 9, 5, 4, 1, 8, 2,\n",
       "       7, 7, 1, 2, 2, 4, 1, 6, 7, 3, 7, 5])"
      ]
     },
     "execution_count": 5,
     "metadata": {},
     "output_type": "execute_result"
    }
   ],
   "source": [
    "rng.integers(0, 10, 100)"
   ]
  },
  {
   "cell_type": "code",
   "execution_count": null,
   "id": "560431f0-becb-4cfa-a6a8-398c6d662de3",
   "metadata": {},
   "outputs": [],
   "source": []
  },
  {
   "cell_type": "code",
   "execution_count": 7,
   "id": "4300e81a-f6bd-4971-9ff0-131d29805fb0",
   "metadata": {},
   "outputs": [
    {
     "data": {
      "text/plain": [
       "array([ 0,  1,  2,  3,  4,  5,  6,  7,  8,  9, 10, 11])"
      ]
     },
     "execution_count": 7,
     "metadata": {},
     "output_type": "execute_result"
    }
   ],
   "source": [
    "integer_array = np.arange(12)\n",
    "integer_array"
   ]
  },
  {
   "cell_type": "code",
   "execution_count": 8,
   "id": "b7b0d00c-ecaf-452a-8194-a68e7cdbb4d6",
   "metadata": {},
   "outputs": [
    {
     "name": "stdout",
     "output_type": "stream",
     "text": [
      "Youth Ages: [10 15 19]\n",
      "Adult Ages: [20 25 30 35 40 45 50 55 60 65]\n",
      "Senior Ages: [70 75 80]\n"
     ]
    }
   ],
   "source": [
    "#Exercise 3\n",
    "import numpy as np\n",
    " \n",
    "ages = np.array([5, 10, 15, 19, 20, 25, 30, 35, 40, 45, 50, 55, 60, 65, 70, 75, 80])\n",
    " \n",
    "youth_ages = ages[1:4] \n",
    "adult_ages = ages[4:14] \n",
    "senior_ages = ages[14:] \n",
    " \n",
    "print(\"Youth Ages:\", youth_ages)\n",
    "print(\"Adult Ages:\", adult_ages)\n",
    "print(\"Senior Ages:\", senior_ages)"
   ]
  },
  {
   "cell_type": "code",
   "execution_count": null,
   "id": "043d21dd-ebb0-4959-b9f1-9e51daaa1cb5",
   "metadata": {},
   "outputs": [],
   "source": []
  },
  {
   "cell_type": "code",
   "execution_count": 10,
   "id": "fa1f44d8-b1cf-462d-9ac4-cff129aaef10",
   "metadata": {},
   "outputs": [
    {
     "data": {
      "text/plain": [
       "array([ 15,  15,  69,  62,  24,  22,  24,   6, -13,  33])"
      ]
     },
     "execution_count": 10,
     "metadata": {},
     "output_type": "execute_result"
    }
   ],
   "source": [
    "rng = np.random.default_rng(616)\n",
    "inventory = rng.integers(0,100, 10)\n",
    "inventory -24"
   ]
  },
  {
   "cell_type": "code",
   "execution_count": null,
   "id": "b842a4f6-352e-48ee-bbf8-05ea1659b863",
   "metadata": {},
   "outputs": [],
   "source": []
  },
  {
   "cell_type": "code",
   "execution_count": 11,
   "id": "8f4c8aa9-4587-4934-bc2b-be8a73d077d8",
   "metadata": {},
   "outputs": [
    {
     "name": "stdout",
     "output_type": "stream",
     "text": [
      "Age differences: [ -5 -10   5  -6  -2]\n"
     ]
    }
   ],
   "source": [
    "#Exercise4 Array Operation\n",
    "import numpy as np\n",
    " \n",
    "# Population age data for two small towns\n",
    "town_a_ages = np.array([25, 45, 70, 34, 58])\n",
    "town_b_ages = np.array([30, 55, 65, 40, 60])\n",
    " \n",
    "# Calculate the age difference between corresponding residents of two towns\n",
    "age_differences = town_a_ages - town_b_ages\n",
    " \n",
    "# Output the result\n",
    "print(\"Age differences:\", age_differences)\n",
    "\n"
   ]
  },
  {
   "cell_type": "code",
   "execution_count": null,
   "id": "cdbbfb28-9dfb-4f4c-92fa-27028e6cf8d3",
   "metadata": {},
   "outputs": [],
   "source": [
    "#Exercice5 "
   ]
  },
  {
   "cell_type": "code",
   "execution_count": null,
   "id": "1ac78912-3ba8-4620-aa1e-eec58d84934e",
   "metadata": {},
   "outputs": [],
   "source": []
  },
  {
   "cell_type": "code",
   "execution_count": null,
   "id": "04503517-753e-44b1-b5f6-f129f3fe0ebe",
   "metadata": {},
   "outputs": [],
   "source": []
  }
 ],
 "metadata": {
  "kernelspec": {
   "display_name": "Python 3 (ipykernel)",
   "language": "python",
   "name": "python3"
  },
  "language_info": {
   "codemirror_mode": {
    "name": "ipython",
    "version": 3
   },
   "file_extension": ".py",
   "mimetype": "text/x-python",
   "name": "python",
   "nbconvert_exporter": "python",
   "pygments_lexer": "ipython3",
   "version": "3.12.9"
  }
 },
 "nbformat": 4,
 "nbformat_minor": 5
}
