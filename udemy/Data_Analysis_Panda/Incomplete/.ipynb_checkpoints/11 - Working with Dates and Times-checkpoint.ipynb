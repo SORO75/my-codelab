{
 "cells": [
  {
   "cell_type": "markdown",
   "metadata": {},
   "source": [
    "# Working with Dates and Times"
   ]
  },
  {
   "cell_type": "code",
   "execution_count": 3,
   "metadata": {
    "scrolled": true
   },
   "outputs": [],
   "source": [
    "import pandas as pd\n",
    "import datetime as dt"
   ]
  },
  {
   "cell_type": "markdown",
   "metadata": {},
   "source": [
    "## Review of Python's datetime Module\n",
    "- The `datetime` module is built into the core Python programming language.\n",
    "- The common alias for the `datetime` module is `dt`.\n",
    "- A module is a Python source file; think of like an internal library that Python loads on demand.\n",
    "- The `datetime` module includes `date` and `datetime` classes for representing dates and datetimes.\n",
    "- The `date` constructor accepts arguments for year, month, and day. Python defaults to 0 for any missing values.\n",
    "- The `datetime` constructor accepts arguments for year, month, day, hour, minute, and second."
   ]
  },
  {
   "cell_type": "code",
   "execution_count": 6,
   "metadata": {},
   "outputs": [
    {
     "data": {
      "text/plain": [
       "59"
      ]
     },
     "execution_count": 6,
     "metadata": {},
     "output_type": "execute_result"
    }
   ],
   "source": [
    "someday = dt.date(2025, 12, 15)\n",
    "\n",
    "someday.year\n",
    "someday.month\n",
    "someday.day\n",
    "\n",
    "dt.datetime(2025, 12, 15)\n",
    "dt.datetime(2025, 12, 15, 8)\n",
    "dt.datetime(2025, 12, 15, 8, 13)\n",
    "dt.datetime(2025, 12, 15, 8, 13, 59)\n",
    "\n",
    "sometime = dt.datetime(2025, 12, 15, 8, 13, 59)\n",
    "sometime.year\n",
    "sometime.month\n",
    "sometime.day\n",
    "sometime.hour\n",
    "sometime.minute\n",
    "sometime.second"
   ]
  },
  {
   "cell_type": "code",
   "execution_count": 9,
   "metadata": {},
   "outputs": [
    {
     "data": {
      "text/plain": [
       "pandas._libs.tslibs.timestamps.Timestamp"
      ]
     },
     "execution_count": 9,
     "metadata": {},
     "output_type": "execute_result"
    }
   ],
   "source": [
    "pd.Timestamp(2027, 3, 12)\n",
    "pd.Timestamp(2027, 3, 12, 18, 23, 49)\n",
    "pd.Timestamp(dt.date(2028, 10, 23))\n",
    "pd.Timestamp(dt.datetime(2028, 10, 23, 14, 35))\n",
    "pd.Timestamp(\"2025-01-01\")\n",
    "pd.Timestamp(\"2025/04/01\")\n",
    "pd.Timestamp(\"2021-03-08 08:35:15\")\n",
    "\n",
    "pd.Series([pd.Timestamp(\"2021-03-08 08:35:15\")]).iloc[0]\n",
    "\n",
    "pd.DatetimeIndex([\"2025-01-01\", \"2025-02-01\", \"2025-03-01\"])\n",
    "index = pd.DatetimeIndex([\n",
    "    dt.date(2026, 1, 10),\n",
    "    dt.date(2026, 2, 20)\n",
    "])\n",
    "\n",
    "index[0]\n",
    "type(index[0])"
   ]
  },
  {
   "cell_type": "code",
   "execution_count": null,
   "metadata": {},
   "outputs": [],
   "source": []
  },
  {
   "cell_type": "code",
   "execution_count": null,
   "metadata": {},
   "outputs": [],
   "source": []
  },
  {
   "cell_type": "markdown",
   "metadata": {},
   "source": [
    "## The Timestamp and DatetimeIndex Objects\n",
    "\n",
    "- Pandas ships with several classes related to datetimes.\n",
    "- The **Timestamp** is similar to Python's **datetime** object (but with expanded functionality).\n",
    "- A **DatetimeIndex** is an index of **Timestamp** objects.\n",
    "- The **Timestamp** constructor accepts a string, a **datetime** object, or equivalent arguments to the **datetime** clas."
   ]
  },
  {
   "cell_type": "code",
   "execution_count": null,
   "metadata": {
    "scrolled": true
   },
   "outputs": [],
   "source": []
  },
  {
   "cell_type": "code",
   "execution_count": null,
   "metadata": {},
   "outputs": [],
   "source": []
  },
  {
   "cell_type": "code",
   "execution_count": null,
   "metadata": {},
   "outputs": [],
   "source": []
  },
  {
   "cell_type": "code",
   "execution_count": null,
   "metadata": {},
   "outputs": [],
   "source": []
  },
  {
   "cell_type": "markdown",
   "metadata": {},
   "source": [
    "## Create Range of Dates with pd.date_range Function\n",
    "- The `date_range` function generates and returns a **DatetimeIndex** holding a sequence of dates.\n",
    "- The function requires 2 of the 3 following parameters: `start`, `end`, and `period`.\n",
    "- With `start` and `end`, Pandas will assume a daily period/interval.\n",
    "- Every element within a **DatetimeIndex** is a **Timestamp**."
   ]
  },
  {
   "cell_type": "code",
   "execution_count": 15,
   "metadata": {},
   "outputs": [
    {
     "name": "stderr",
     "output_type": "stream",
     "text": [
      "/var/folders/7t/0prcy1ts2pjbhw83bx58jl7w0000gn/T/ipykernel_16115/536970050.py:9: FutureWarning: 'H' is deprecated and will be removed in a future version, please use 'h' instead.\n",
      "  pd.date_range(start=\"2025-01-01\", end=\"2025-01-31\", freq=\"H\")\n",
      "/var/folders/7t/0prcy1ts2pjbhw83bx58jl7w0000gn/T/ipykernel_16115/536970050.py:10: FutureWarning: 'H' is deprecated and will be removed in a future version, please use 'h' instead.\n",
      "  pd.date_range(start=\"2025-01-01\", end=\"2025-01-31\", freq=\"6H\")\n",
      "/var/folders/7t/0prcy1ts2pjbhw83bx58jl7w0000gn/T/ipykernel_16115/536970050.py:12: FutureWarning: 'M' is deprecated and will be removed in a future version, please use 'ME' instead.\n",
      "  pd.date_range(start=\"2025-01-01\", end=\"2025-12-31\", freq=\"M\")\n",
      "/var/folders/7t/0prcy1ts2pjbhw83bx58jl7w0000gn/T/ipykernel_16115/536970050.py:14: FutureWarning: 'A' is deprecated and will be removed in a future version, please use 'YE' instead.\n",
      "  pd.date_range(start=\"2025-01-01\", end=\"2050-12-31\", freq=\"A\")\n"
     ]
    },
    {
     "data": {
      "text/plain": [
       "DatetimeIndex(['1989-11-10', '1989-11-17', '1989-11-24', '1989-12-01',\n",
       "               '1989-12-08', '1989-12-15', '1989-12-22', '1989-12-29',\n",
       "               '1990-01-05', '1990-01-12', '1990-01-19', '1990-01-26',\n",
       "               '1990-02-02', '1990-02-09', '1990-02-16', '1990-02-23',\n",
       "               '1990-03-02', '1990-03-09', '1990-03-16', '1990-03-23',\n",
       "               '1990-03-30', '1990-04-06', '1990-04-13', '1990-04-20',\n",
       "               '1990-04-27', '1990-05-04', '1990-05-11', '1990-05-18',\n",
       "               '1990-05-25', '1990-06-01', '1990-06-08', '1990-06-15',\n",
       "               '1990-06-22', '1990-06-29', '1990-07-06', '1990-07-13',\n",
       "               '1990-07-20', '1990-07-27', '1990-08-03', '1990-08-10',\n",
       "               '1990-08-17', '1990-08-24', '1990-08-31', '1990-09-07',\n",
       "               '1990-09-14', '1990-09-21', '1990-09-28', '1990-10-05',\n",
       "               '1990-10-12', '1990-10-19', '1990-10-26', '1990-11-02',\n",
       "               '1990-11-09', '1990-11-16', '1990-11-23', '1990-11-30',\n",
       "               '1990-12-07', '1990-12-14', '1990-12-21', '1990-12-28',\n",
       "               '1991-01-04', '1991-01-11', '1991-01-18', '1991-01-25',\n",
       "               '1991-02-01', '1991-02-08', '1991-02-15', '1991-02-22',\n",
       "               '1991-03-01', '1991-03-08', '1991-03-15', '1991-03-22',\n",
       "               '1991-03-29', '1991-04-05', '1991-04-12'],\n",
       "              dtype='datetime64[ns]', freq='W-FRI')"
      ]
     },
     "execution_count": 15,
     "metadata": {},
     "output_type": "execute_result"
    }
   ],
   "source": [
    "pd.date_range(start=\"2025-01-01\", end=\"2025-01-07\")\n",
    "pd.date_range(start=\"2025-01-01\", end=\"2025-01-07\", freq=\"D\")\n",
    "pd.date_range(start=\"2025-01-01\", end=\"2025-01-07\", freq=\"2D\")\n",
    "pd.date_range(start=\"2025-01-01\", end=\"2025-01-07\", freq=\"B\") # business days - Monday-Friday\n",
    "pd.date_range(start=\"2025-01-01\", end=\"2025-01-31\", freq=\"W\")\n",
    "pd.date_range(start=\"2025-01-01\", end=\"2025-01-31\", freq=\"W-FRI\")\n",
    "pd.date_range(start=\"2025-01-01\", end=\"2025-01-31\", freq=\"W-THU\")\n",
    "\n",
    "pd.date_range(start=\"2025-01-01\", end=\"2025-01-31\", freq=\"H\")\n",
    "pd.date_range(start=\"2025-01-01\", end=\"2025-01-31\", freq=\"6H\")\n",
    "\n",
    "pd.date_range(start=\"2025-01-01\", end=\"2025-12-31\", freq=\"M\")\n",
    "pd.date_range(start=\"2025-01-01\", end=\"2025-12-31\", freq=\"MS\")\n",
    "pd.date_range(start=\"2025-01-01\", end=\"2050-12-31\", freq=\"A\")\n",
    "\n",
    "pd.date_range(start=\"2012-09-09\", freq=\"D\", periods=25)\n",
    "pd.date_range(start=\"2012-09-09\", freq=\"3D\", periods=40)\n",
    "pd.date_range(start=\"2012-09-09\", freq=\"B\", periods=180)\n",
    "\n",
    "pd.date_range(end=\"2013-10-31\", freq=\"D\", periods=20)\n",
    "pd.date_range(end=\"2016-12-31\", freq=\"B\", periods=75)\n",
    "pd.date_range(end=\"1991-04-12\", freq=\"W-FRI\", periods=75)"
   ]
  },
  {
   "cell_type": "code",
   "execution_count": null,
   "metadata": {},
   "outputs": [],
   "source": []
  },
  {
   "cell_type": "code",
   "execution_count": null,
   "metadata": {},
   "outputs": [],
   "source": []
  },
  {
   "cell_type": "code",
   "execution_count": null,
   "metadata": {},
   "outputs": [],
   "source": []
  },
  {
   "cell_type": "markdown",
   "metadata": {},
   "source": [
    "## The dt Attribute\n",
    "- The `dt` attribute reveals a `DatetimeProperties` object with attributes/methods for working with datetimes. It is similar to the `str` attribute for string methods.\n",
    "- The `DatetimeProperties` object has attributes like `day`, `month`, and `year` to reveal information about each date in the **Series**.\n",
    "- The `day_name` method returns the written day of the week.\n",
    "- Attributes like `is_month_end` and `is_quarter_start` return Boolean **Series**."
   ]
  },
  {
   "cell_type": "code",
   "execution_count": null,
   "metadata": {},
   "outputs": [],
   "source": []
  },
  {
   "cell_type": "code",
   "execution_count": null,
   "metadata": {},
   "outputs": [],
   "source": []
  },
  {
   "cell_type": "code",
   "execution_count": null,
   "metadata": {},
   "outputs": [],
   "source": []
  },
  {
   "cell_type": "code",
   "execution_count": null,
   "metadata": {},
   "outputs": [],
   "source": []
  },
  {
   "cell_type": "markdown",
   "metadata": {},
   "source": [
    "## Selecting Rows from a DataFrame with a DateTimeIndex\n",
    "- The `iloc` accessor is available for index position-based extraction.\n",
    "- The `loc` accessor accepts strings or **Timestamps** to extract by index label/value. Note that Python's `datetime` objects will not work.\n",
    "- Use list slicing to extract a sequence of dates. The `truncate` method is another alternative."
   ]
  },
  {
   "cell_type": "code",
   "execution_count": null,
   "metadata": {},
   "outputs": [],
   "source": []
  },
  {
   "cell_type": "code",
   "execution_count": null,
   "metadata": {},
   "outputs": [],
   "source": []
  },
  {
   "cell_type": "code",
   "execution_count": null,
   "metadata": {},
   "outputs": [],
   "source": []
  },
  {
   "cell_type": "code",
   "execution_count": null,
   "metadata": {},
   "outputs": [],
   "source": []
  },
  {
   "cell_type": "markdown",
   "metadata": {},
   "source": [
    "## The DateOffset Object\n",
    "- A **DateOffset** object adds time to a **Timestamp** to arrive at a new **Timestamp**.\n",
    "- The **DateOffset** constructor accepts `days`, `weeks`, `months`, `years` parameters, and more.\n",
    "- We can pass a **DateOffset** object to the `freq` parameter of the `pd.date_range` function."
   ]
  },
  {
   "cell_type": "code",
   "execution_count": null,
   "metadata": {},
   "outputs": [],
   "source": []
  },
  {
   "cell_type": "code",
   "execution_count": null,
   "metadata": {},
   "outputs": [],
   "source": []
  },
  {
   "cell_type": "code",
   "execution_count": null,
   "metadata": {},
   "outputs": [],
   "source": []
  },
  {
   "cell_type": "code",
   "execution_count": null,
   "metadata": {},
   "outputs": [],
   "source": []
  },
  {
   "cell_type": "markdown",
   "metadata": {},
   "source": [
    "## Specialized Date Offsets\n",
    "- Pandas nests more specialized date offsets in `pd.tseries.offsets`.\n",
    "- We can add a different amount of time to each date (for example, month end, quarter end, year begin)"
   ]
  },
  {
   "cell_type": "code",
   "execution_count": null,
   "metadata": {},
   "outputs": [],
   "source": []
  },
  {
   "cell_type": "code",
   "execution_count": null,
   "metadata": {},
   "outputs": [],
   "source": []
  },
  {
   "cell_type": "code",
   "execution_count": null,
   "metadata": {},
   "outputs": [],
   "source": []
  },
  {
   "cell_type": "code",
   "execution_count": null,
   "metadata": {},
   "outputs": [],
   "source": []
  },
  {
   "cell_type": "markdown",
   "metadata": {},
   "source": [
    "## Timedeltas\n",
    "- A **Timedelta** is a pandas object that represents a duration (an amount of time).\n",
    "- Subtracting two **Timestamp** objects will yield a **Timedelta** object (this applies to subtracting a **Series** from another **Series**).\n",
    "- The **Timedelta** constructor accepts parameters for time as well as string descriptions."
   ]
  },
  {
   "cell_type": "code",
   "execution_count": null,
   "metadata": {},
   "outputs": [],
   "source": []
  },
  {
   "cell_type": "code",
   "execution_count": null,
   "metadata": {},
   "outputs": [],
   "source": []
  },
  {
   "cell_type": "code",
   "execution_count": null,
   "metadata": {},
   "outputs": [],
   "source": []
  },
  {
   "cell_type": "code",
   "execution_count": null,
   "metadata": {},
   "outputs": [],
   "source": []
  },
  {
   "cell_type": "code",
   "execution_count": null,
   "metadata": {},
   "outputs": [],
   "source": []
  },
  {
   "cell_type": "code",
   "execution_count": null,
   "metadata": {},
   "outputs": [],
   "source": []
  },
  {
   "cell_type": "code",
   "execution_count": null,
   "metadata": {},
   "outputs": [],
   "source": []
  }
 ],
 "metadata": {
  "anaconda-cloud": {},
  "kernelspec": {
   "display_name": "Python 3 (ipykernel)",
   "language": "python",
   "name": "python3"
  },
  "language_info": {
   "codemirror_mode": {
    "name": "ipython",
    "version": 3
   },
   "file_extension": ".py",
   "mimetype": "text/x-python",
   "name": "python",
   "nbconvert_exporter": "python",
   "pygments_lexer": "ipython3",
   "version": "3.12.9"
  }
 },
 "nbformat": 4,
 "nbformat_minor": 4
}
