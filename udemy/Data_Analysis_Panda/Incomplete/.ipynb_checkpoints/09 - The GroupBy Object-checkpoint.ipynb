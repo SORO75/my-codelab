{
 "cells": [
  {
   "cell_type": "markdown",
   "metadata": {},
   "source": [
    "# The GroupBy Object"
   ]
  },
  {
   "cell_type": "code",
   "execution_count": 1,
   "metadata": {},
   "outputs": [],
   "source": [
    "import pandas as pd"
   ]
  },
  {
   "cell_type": "code",
   "execution_count": 6,
   "metadata": {},
   "outputs": [
    {
     "data": {
      "text/html": [
       "<div>\n",
       "<style scoped>\n",
       "    .dataframe tbody tr th:only-of-type {\n",
       "        vertical-align: middle;\n",
       "    }\n",
       "\n",
       "    .dataframe tbody tr th {\n",
       "        vertical-align: top;\n",
       "    }\n",
       "\n",
       "    .dataframe thead th {\n",
       "        text-align: right;\n",
       "    }\n",
       "</style>\n",
       "<table border=\"1\" class=\"dataframe\">\n",
       "  <thead>\n",
       "    <tr style=\"text-align: right;\">\n",
       "      <th></th>\n",
       "      <th>Company</th>\n",
       "      <th>Sector</th>\n",
       "      <th>Industry</th>\n",
       "      <th>Revenue</th>\n",
       "      <th>Profits</th>\n",
       "      <th>Employees</th>\n",
       "    </tr>\n",
       "    <tr>\n",
       "      <th>Rank</th>\n",
       "      <th></th>\n",
       "      <th></th>\n",
       "      <th></th>\n",
       "      <th></th>\n",
       "      <th></th>\n",
       "      <th></th>\n",
       "    </tr>\n",
       "  </thead>\n",
       "  <tbody>\n",
       "    <tr>\n",
       "      <th>1</th>\n",
       "      <td>Walmart</td>\n",
       "      <td>Retailing</td>\n",
       "      <td>General Merchandisers</td>\n",
       "      <td>482130</td>\n",
       "      <td>14694</td>\n",
       "      <td>2300000</td>\n",
       "    </tr>\n",
       "    <tr>\n",
       "      <th>2</th>\n",
       "      <td>Exxon Mobil</td>\n",
       "      <td>Energy</td>\n",
       "      <td>Petroleum Refining</td>\n",
       "      <td>246204</td>\n",
       "      <td>16150</td>\n",
       "      <td>75600</td>\n",
       "    </tr>\n",
       "    <tr>\n",
       "      <th>3</th>\n",
       "      <td>Apple</td>\n",
       "      <td>Technology</td>\n",
       "      <td>Computers, Office Equipment</td>\n",
       "      <td>233715</td>\n",
       "      <td>53394</td>\n",
       "      <td>110000</td>\n",
       "    </tr>\n",
       "    <tr>\n",
       "      <th>4</th>\n",
       "      <td>Berkshire Hathaway</td>\n",
       "      <td>Financials</td>\n",
       "      <td>Insurance: Property and Casualty (Stock)</td>\n",
       "      <td>210821</td>\n",
       "      <td>24083</td>\n",
       "      <td>331000</td>\n",
       "    </tr>\n",
       "    <tr>\n",
       "      <th>5</th>\n",
       "      <td>McKesson</td>\n",
       "      <td>Health Care</td>\n",
       "      <td>Wholesalers: Health Care</td>\n",
       "      <td>181241</td>\n",
       "      <td>1476</td>\n",
       "      <td>70400</td>\n",
       "    </tr>\n",
       "  </tbody>\n",
       "</table>\n",
       "</div>"
      ],
      "text/plain": [
       "                 Company       Sector  \\\n",
       "Rank                                    \n",
       "1                Walmart    Retailing   \n",
       "2            Exxon Mobil       Energy   \n",
       "3                  Apple   Technology   \n",
       "4     Berkshire Hathaway   Financials   \n",
       "5               McKesson  Health Care   \n",
       "\n",
       "                                      Industry  Revenue  Profits  Employees  \n",
       "Rank                                                                         \n",
       "1                        General Merchandisers   482130    14694    2300000  \n",
       "2                           Petroleum Refining   246204    16150      75600  \n",
       "3                  Computers, Office Equipment   233715    53394     110000  \n",
       "4     Insurance: Property and Casualty (Stock)   210821    24083     331000  \n",
       "5                     Wholesalers: Health Care   181241     1476      70400  "
      ]
     },
     "execution_count": 6,
     "metadata": {},
     "output_type": "execute_result"
    }
   ],
   "source": [
    "fortune=pd.read_csv(\"fortune1000.csv\", index_col=\"Rank\")\n",
    "fortune.head()"
   ]
  },
  {
   "cell_type": "code",
   "execution_count": 9,
   "metadata": {},
   "outputs": [
    {
     "data": {
      "text/plain": [
       "np.int64(1465076)"
      ]
     },
     "execution_count": 9,
     "metadata": {},
     "output_type": "execute_result"
    }
   ],
   "source": [
    "fortune[fortune[\"Sector\"] == \"Retailing\"][\"Revenue\"].sum()"
   ]
  },
  {
   "cell_type": "code",
   "execution_count": 11,
   "metadata": {},
   "outputs": [
    {
     "data": {
      "text/plain": [
       "<pandas.core.groupby.generic.DataFrameGroupBy object at 0x10b431490>"
      ]
     },
     "execution_count": 11,
     "metadata": {},
     "output_type": "execute_result"
    }
   ],
   "source": [
    "sectors = fortune.groupby(\"Sector\")\n",
    "sectors"
   ]
  },
  {
   "cell_type": "code",
   "execution_count": 12,
   "metadata": {},
   "outputs": [
    {
     "data": {
      "text/plain": [
       "21"
      ]
     },
     "execution_count": 12,
     "metadata": {},
     "output_type": "execute_result"
    }
   ],
   "source": [
    "len(sectors)"
   ]
  },
  {
   "cell_type": "code",
   "execution_count": 13,
   "metadata": {},
   "outputs": [
    {
     "data": {
      "text/plain": [
       "Sector\n",
       "Aerospace & Defense              20\n",
       "Apparel                          15\n",
       "Business Services                51\n",
       "Chemicals                        30\n",
       "Energy                          122\n",
       "Engineering & Construction       26\n",
       "Financials                      139\n",
       "Food and Drug Stores             15\n",
       "Food, Beverages & Tobacco        43\n",
       "Health Care                      75\n",
       "Hotels, Resturants & Leisure     25\n",
       "Household Products               28\n",
       "Industrials                      46\n",
       "Materials                        43\n",
       "Media                            25\n",
       "Motor Vehicles & Parts           24\n",
       "Retailing                        80\n",
       "Technology                      102\n",
       "Telecommunications               15\n",
       "Transportation                   36\n",
       "Wholesalers                      40\n",
       "dtype: int64"
      ]
     },
     "execution_count": 13,
     "metadata": {},
     "output_type": "execute_result"
    }
   ],
   "source": [
    "sectors.size()"
   ]
  },
  {
   "cell_type": "code",
   "execution_count": 14,
   "metadata": {},
   "outputs": [
    {
     "data": {
      "text/html": [
       "<div>\n",
       "<style scoped>\n",
       "    .dataframe tbody tr th:only-of-type {\n",
       "        vertical-align: middle;\n",
       "    }\n",
       "\n",
       "    .dataframe tbody tr th {\n",
       "        vertical-align: top;\n",
       "    }\n",
       "\n",
       "    .dataframe thead th {\n",
       "        text-align: right;\n",
       "    }\n",
       "</style>\n",
       "<table border=\"1\" class=\"dataframe\">\n",
       "  <thead>\n",
       "    <tr style=\"text-align: right;\">\n",
       "      <th></th>\n",
       "      <th>Company</th>\n",
       "      <th>Industry</th>\n",
       "      <th>Revenue</th>\n",
       "      <th>Profits</th>\n",
       "      <th>Employees</th>\n",
       "    </tr>\n",
       "    <tr>\n",
       "      <th>Sector</th>\n",
       "      <th></th>\n",
       "      <th></th>\n",
       "      <th></th>\n",
       "      <th></th>\n",
       "      <th></th>\n",
       "    </tr>\n",
       "  </thead>\n",
       "  <tbody>\n",
       "    <tr>\n",
       "      <th>Aerospace &amp; Defense</th>\n",
       "      <td>Boeing</td>\n",
       "      <td>Aerospace and Defense</td>\n",
       "      <td>96114</td>\n",
       "      <td>5176</td>\n",
       "      <td>161400</td>\n",
       "    </tr>\n",
       "    <tr>\n",
       "      <th>Apparel</th>\n",
       "      <td>Nike</td>\n",
       "      <td>Apparel</td>\n",
       "      <td>30601</td>\n",
       "      <td>3273</td>\n",
       "      <td>62600</td>\n",
       "    </tr>\n",
       "    <tr>\n",
       "      <th>Business Services</th>\n",
       "      <td>ManpowerGroup</td>\n",
       "      <td>Temporary Help</td>\n",
       "      <td>19330</td>\n",
       "      <td>419</td>\n",
       "      <td>27000</td>\n",
       "    </tr>\n",
       "    <tr>\n",
       "      <th>Chemicals</th>\n",
       "      <td>Dow Chemical</td>\n",
       "      <td>Chemicals</td>\n",
       "      <td>48778</td>\n",
       "      <td>7685</td>\n",
       "      <td>49495</td>\n",
       "    </tr>\n",
       "    <tr>\n",
       "      <th>Energy</th>\n",
       "      <td>Exxon Mobil</td>\n",
       "      <td>Petroleum Refining</td>\n",
       "      <td>246204</td>\n",
       "      <td>16150</td>\n",
       "      <td>75600</td>\n",
       "    </tr>\n",
       "    <tr>\n",
       "      <th>Engineering &amp; Construction</th>\n",
       "      <td>Fluor</td>\n",
       "      <td>Engineering, Construction</td>\n",
       "      <td>18114</td>\n",
       "      <td>413</td>\n",
       "      <td>38758</td>\n",
       "    </tr>\n",
       "    <tr>\n",
       "      <th>Financials</th>\n",
       "      <td>Berkshire Hathaway</td>\n",
       "      <td>Insurance: Property and Casualty (Stock)</td>\n",
       "      <td>210821</td>\n",
       "      <td>24083</td>\n",
       "      <td>331000</td>\n",
       "    </tr>\n",
       "    <tr>\n",
       "      <th>Food and Drug Stores</th>\n",
       "      <td>CVS Health</td>\n",
       "      <td>Food and Drug Stores</td>\n",
       "      <td>153290</td>\n",
       "      <td>5237</td>\n",
       "      <td>199000</td>\n",
       "    </tr>\n",
       "    <tr>\n",
       "      <th>Food, Beverages &amp; Tobacco</th>\n",
       "      <td>Archer Daniels Midland</td>\n",
       "      <td>Food Production</td>\n",
       "      <td>67702</td>\n",
       "      <td>1849</td>\n",
       "      <td>32300</td>\n",
       "    </tr>\n",
       "    <tr>\n",
       "      <th>Health Care</th>\n",
       "      <td>McKesson</td>\n",
       "      <td>Wholesalers: Health Care</td>\n",
       "      <td>181241</td>\n",
       "      <td>1476</td>\n",
       "      <td>70400</td>\n",
       "    </tr>\n",
       "    <tr>\n",
       "      <th>Hotels, Resturants &amp; Leisure</th>\n",
       "      <td>McDonald’s</td>\n",
       "      <td>Food Services</td>\n",
       "      <td>25413</td>\n",
       "      <td>4529</td>\n",
       "      <td>420000</td>\n",
       "    </tr>\n",
       "    <tr>\n",
       "      <th>Household Products</th>\n",
       "      <td>Procter &amp; Gamble</td>\n",
       "      <td>Household and Personal Products</td>\n",
       "      <td>78756</td>\n",
       "      <td>7036</td>\n",
       "      <td>110000</td>\n",
       "    </tr>\n",
       "    <tr>\n",
       "      <th>Industrials</th>\n",
       "      <td>General Electric</td>\n",
       "      <td>Industrial Machinery</td>\n",
       "      <td>140389</td>\n",
       "      <td>-6126</td>\n",
       "      <td>333000</td>\n",
       "    </tr>\n",
       "    <tr>\n",
       "      <th>Materials</th>\n",
       "      <td>Alcoa</td>\n",
       "      <td>Metals</td>\n",
       "      <td>22534</td>\n",
       "      <td>-322</td>\n",
       "      <td>60000</td>\n",
       "    </tr>\n",
       "    <tr>\n",
       "      <th>Media</th>\n",
       "      <td>Disney</td>\n",
       "      <td>Entertainment</td>\n",
       "      <td>52465</td>\n",
       "      <td>8382</td>\n",
       "      <td>185000</td>\n",
       "    </tr>\n",
       "    <tr>\n",
       "      <th>Motor Vehicles &amp; Parts</th>\n",
       "      <td>General Motors</td>\n",
       "      <td>Motor Vehicles and Parts</td>\n",
       "      <td>152356</td>\n",
       "      <td>9687</td>\n",
       "      <td>215000</td>\n",
       "    </tr>\n",
       "    <tr>\n",
       "      <th>Retailing</th>\n",
       "      <td>Walmart</td>\n",
       "      <td>General Merchandisers</td>\n",
       "      <td>482130</td>\n",
       "      <td>14694</td>\n",
       "      <td>2300000</td>\n",
       "    </tr>\n",
       "    <tr>\n",
       "      <th>Technology</th>\n",
       "      <td>Apple</td>\n",
       "      <td>Computers, Office Equipment</td>\n",
       "      <td>233715</td>\n",
       "      <td>53394</td>\n",
       "      <td>110000</td>\n",
       "    </tr>\n",
       "    <tr>\n",
       "      <th>Telecommunications</th>\n",
       "      <td>AT&amp;T</td>\n",
       "      <td>Telecommunications</td>\n",
       "      <td>146801</td>\n",
       "      <td>13345</td>\n",
       "      <td>281450</td>\n",
       "    </tr>\n",
       "    <tr>\n",
       "      <th>Transportation</th>\n",
       "      <td>UPS</td>\n",
       "      <td>Mail, Package, and Freight Delivery</td>\n",
       "      <td>58363</td>\n",
       "      <td>4844</td>\n",
       "      <td>341240</td>\n",
       "    </tr>\n",
       "    <tr>\n",
       "      <th>Wholesalers</th>\n",
       "      <td>Sysco</td>\n",
       "      <td>Wholesalers: Food and Grocery</td>\n",
       "      <td>48681</td>\n",
       "      <td>687</td>\n",
       "      <td>51700</td>\n",
       "    </tr>\n",
       "  </tbody>\n",
       "</table>\n",
       "</div>"
      ],
      "text/plain": [
       "                                             Company  \\\n",
       "Sector                                                 \n",
       "Aerospace & Defense                           Boeing   \n",
       "Apparel                                         Nike   \n",
       "Business Services                      ManpowerGroup   \n",
       "Chemicals                               Dow Chemical   \n",
       "Energy                                   Exxon Mobil   \n",
       "Engineering & Construction                     Fluor   \n",
       "Financials                        Berkshire Hathaway   \n",
       "Food and Drug Stores                      CVS Health   \n",
       "Food, Beverages & Tobacco     Archer Daniels Midland   \n",
       "Health Care                                 McKesson   \n",
       "Hotels, Resturants & Leisure              McDonald’s   \n",
       "Household Products                  Procter & Gamble   \n",
       "Industrials                         General Electric   \n",
       "Materials                                      Alcoa   \n",
       "Media                                         Disney   \n",
       "Motor Vehicles & Parts                General Motors   \n",
       "Retailing                                    Walmart   \n",
       "Technology                                     Apple   \n",
       "Telecommunications                              AT&T   \n",
       "Transportation                                   UPS   \n",
       "Wholesalers                                    Sysco   \n",
       "\n",
       "                                                              Industry  \\\n",
       "Sector                                                                   \n",
       "Aerospace & Defense                              Aerospace and Defense   \n",
       "Apparel                                                        Apparel   \n",
       "Business Services                                       Temporary Help   \n",
       "Chemicals                                                    Chemicals   \n",
       "Energy                                              Petroleum Refining   \n",
       "Engineering & Construction                   Engineering, Construction   \n",
       "Financials                    Insurance: Property and Casualty (Stock)   \n",
       "Food and Drug Stores                              Food and Drug Stores   \n",
       "Food, Beverages & Tobacco                              Food Production   \n",
       "Health Care                                   Wholesalers: Health Care   \n",
       "Hotels, Resturants & Leisure                             Food Services   \n",
       "Household Products                     Household and Personal Products   \n",
       "Industrials                                       Industrial Machinery   \n",
       "Materials                                                       Metals   \n",
       "Media                                                    Entertainment   \n",
       "Motor Vehicles & Parts                        Motor Vehicles and Parts   \n",
       "Retailing                                        General Merchandisers   \n",
       "Technology                                 Computers, Office Equipment   \n",
       "Telecommunications                                  Telecommunications   \n",
       "Transportation                     Mail, Package, and Freight Delivery   \n",
       "Wholesalers                              Wholesalers: Food and Grocery   \n",
       "\n",
       "                              Revenue  Profits  Employees  \n",
       "Sector                                                     \n",
       "Aerospace & Defense             96114     5176     161400  \n",
       "Apparel                         30601     3273      62600  \n",
       "Business Services               19330      419      27000  \n",
       "Chemicals                       48778     7685      49495  \n",
       "Energy                         246204    16150      75600  \n",
       "Engineering & Construction      18114      413      38758  \n",
       "Financials                     210821    24083     331000  \n",
       "Food and Drug Stores           153290     5237     199000  \n",
       "Food, Beverages & Tobacco       67702     1849      32300  \n",
       "Health Care                    181241     1476      70400  \n",
       "Hotels, Resturants & Leisure    25413     4529     420000  \n",
       "Household Products              78756     7036     110000  \n",
       "Industrials                    140389    -6126     333000  \n",
       "Materials                       22534     -322      60000  \n",
       "Media                           52465     8382     185000  \n",
       "Motor Vehicles & Parts         152356     9687     215000  \n",
       "Retailing                      482130    14694    2300000  \n",
       "Technology                     233715    53394     110000  \n",
       "Telecommunications             146801    13345     281450  \n",
       "Transportation                  58363     4844     341240  \n",
       "Wholesalers                     48681      687      51700  "
      ]
     },
     "execution_count": 14,
     "metadata": {},
     "output_type": "execute_result"
    }
   ],
   "source": [
    "sectors.first()"
   ]
  },
  {
   "cell_type": "code",
   "execution_count": null,
   "metadata": {},
   "outputs": [],
   "source": []
  },
  {
   "cell_type": "code",
   "execution_count": null,
   "metadata": {},
   "outputs": [],
   "source": []
  },
  {
   "cell_type": "markdown",
   "metadata": {},
   "source": [
    "## The Fortune 1000 Dataset\n",
    "- The **Fortune 1000** is a listing of the 1000 largest American companies as ranked by Fortune magazine.\n",
    "- The **DataFrame** includes the company's name, sector, industry, and revenues, profits, and employees."
   ]
  },
  {
   "cell_type": "code",
   "execution_count": null,
   "metadata": {
    "collapsed": false,
    "jupyter": {
     "outputs_hidden": false
    }
   },
   "outputs": [],
   "source": []
  },
  {
   "cell_type": "markdown",
   "metadata": {
    "collapsed": false,
    "jupyter": {
     "outputs_hidden": false
    }
   },
   "source": [
    "## The groupby Method\n",
    "- **Grouping** is a way to organize/categorize/group the data based on a column's values.\n",
    "- The `groupby` method returns a **DataFrameGroupBy** object. It resembles a group/collection of **DataFrames** in a dictionary-like structure.\n",
    "- The **DataFrameGroupBy** object can perform aggregate operations on *each* group within it."
   ]
  },
  {
   "cell_type": "code",
   "execution_count": null,
   "metadata": {},
   "outputs": [],
   "source": []
  },
  {
   "cell_type": "code",
   "execution_count": null,
   "metadata": {},
   "outputs": [],
   "source": []
  },
  {
   "cell_type": "code",
   "execution_count": null,
   "metadata": {},
   "outputs": [],
   "source": []
  },
  {
   "cell_type": "code",
   "execution_count": null,
   "metadata": {},
   "outputs": [],
   "source": []
  },
  {
   "cell_type": "code",
   "execution_count": null,
   "metadata": {},
   "outputs": [],
   "source": []
  },
  {
   "cell_type": "markdown",
   "metadata": {},
   "source": [
    "## Retrieve a Group with the get_group Method\n",
    "- The `get_group` method on the **DataFrameGroupBy** object retrieves a nested **DataFrame** belonging to a specific group/category."
   ]
  },
  {
   "cell_type": "code",
   "execution_count": null,
   "metadata": {},
   "outputs": [],
   "source": []
  },
  {
   "cell_type": "code",
   "execution_count": null,
   "metadata": {},
   "outputs": [],
   "source": []
  },
  {
   "cell_type": "code",
   "execution_count": null,
   "metadata": {},
   "outputs": [],
   "source": []
  },
  {
   "cell_type": "code",
   "execution_count": null,
   "metadata": {},
   "outputs": [],
   "source": []
  },
  {
   "cell_type": "markdown",
   "metadata": {},
   "source": [
    "## Methods on the GroupBy Object\n",
    "- Use square brackets on the **DataFrameGroupBy** object to \"extract\" a column from the original **DataFrame**.\n",
    "- The resulting **SeriesGroupBy** object will have aggregation methods available on it.\n",
    "- Pandas will perform the calculation on *every* group within the collection.\n",
    "- For example, the `sum` method will sum together the **Revenues** for every row by group/category."
   ]
  },
  {
   "cell_type": "code",
   "execution_count": null,
   "metadata": {
    "tags": []
   },
   "outputs": [],
   "source": []
  },
  {
   "cell_type": "code",
   "execution_count": null,
   "metadata": {},
   "outputs": [],
   "source": []
  },
  {
   "cell_type": "code",
   "execution_count": null,
   "metadata": {},
   "outputs": [],
   "source": []
  },
  {
   "cell_type": "code",
   "execution_count": null,
   "metadata": {},
   "outputs": [],
   "source": []
  },
  {
   "cell_type": "markdown",
   "metadata": {},
   "source": [
    "## Grouping by Multiple Columns\n",
    "- Pass a list of columns to the **groupby** method to group by pairings of values across columns.\n",
    "- Target a column to retrieve the **SeriesGroupBy** object, then perform an aggregation with a method.\n",
    "- Pandas will return a **MultiIndex** **Series** where the levels will be the original groups."
   ]
  },
  {
   "cell_type": "code",
   "execution_count": null,
   "metadata": {
    "collapsed": false,
    "jupyter": {
     "outputs_hidden": false
    }
   },
   "outputs": [],
   "source": []
  },
  {
   "cell_type": "code",
   "execution_count": null,
   "metadata": {},
   "outputs": [],
   "source": []
  },
  {
   "cell_type": "code",
   "execution_count": null,
   "metadata": {},
   "outputs": [],
   "source": []
  },
  {
   "cell_type": "code",
   "execution_count": null,
   "metadata": {},
   "outputs": [],
   "source": []
  },
  {
   "cell_type": "markdown",
   "metadata": {},
   "source": [
    "## The agg Method\n",
    "- The `agg` method applies different aggregation methods on different columns.\n",
    "- Invoke the `agg` method directly on the **DataFrameGroupBy** object.\n",
    "- Pass the method a dictionary where the keys are the columns and the values are the aggregation operations."
   ]
  },
  {
   "cell_type": "code",
   "execution_count": null,
   "metadata": {
    "collapsed": false,
    "jupyter": {
     "outputs_hidden": false
    }
   },
   "outputs": [],
   "source": []
  },
  {
   "cell_type": "code",
   "execution_count": null,
   "metadata": {},
   "outputs": [],
   "source": []
  },
  {
   "cell_type": "code",
   "execution_count": null,
   "metadata": {},
   "outputs": [],
   "source": []
  },
  {
   "cell_type": "code",
   "execution_count": null,
   "metadata": {},
   "outputs": [],
   "source": []
  },
  {
   "cell_type": "markdown",
   "metadata": {},
   "source": [
    "## Iterating through Groups \n",
    "- The **DataFrameGroupBy** object supports the `apply` method (just like a **Series** and a **DataFrame** do).\n",
    "- The `apply` method invokes a function on every nested **DataFrame** in the **DataFrameGroupBy** object.\n",
    "- It captures the return values of the functions and collects them in a new **DataFrame** (the return value)."
   ]
  },
  {
   "cell_type": "code",
   "execution_count": null,
   "metadata": {
    "collapsed": false,
    "jupyter": {
     "outputs_hidden": false
    }
   },
   "outputs": [],
   "source": []
  },
  {
   "cell_type": "code",
   "execution_count": null,
   "metadata": {
    "collapsed": false,
    "jupyter": {
     "outputs_hidden": false
    }
   },
   "outputs": [],
   "source": []
  },
  {
   "cell_type": "code",
   "execution_count": null,
   "metadata": {},
   "outputs": [],
   "source": []
  },
  {
   "cell_type": "code",
   "execution_count": null,
   "metadata": {},
   "outputs": [],
   "source": []
  }
 ],
 "metadata": {
  "anaconda-cloud": {},
  "kernelspec": {
   "display_name": "Python 3 (ipykernel)",
   "language": "python",
   "name": "python3"
  },
  "language_info": {
   "codemirror_mode": {
    "name": "ipython",
    "version": 3
   },
   "file_extension": ".py",
   "mimetype": "text/x-python",
   "name": "python",
   "nbconvert_exporter": "python",
   "pygments_lexer": "ipython3",
   "version": "3.12.9"
  }
 },
 "nbformat": 4,
 "nbformat_minor": 4
}
